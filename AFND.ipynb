{
 "cells": [
  {
   "cell_type": "markdown",
   "id": "c978e6a3",
   "metadata": {},
   "source": [
    "# LFA-TP2: Autômato Finito Não Determinístico (AFND)"
   ]
  },
  {
   "cell_type": "markdown",
   "id": "dbd0c481",
   "metadata": {},
   "source": [
    "Implemente um algoritmo que simule um AFND. A entrada consiste da especificação de um AFND e de um conjunto de palavras. A saída consiste de uma lista indicando ‘S’ caso o AFND reconheça a palavra em questão e ‘N’ caso contrário."
   ]
  },
  {
   "cell_type": "markdown",
   "id": "44ae4859",
   "metadata": {},
   "source": [
    "# Relatório + Código:"
   ]
  },
  {
   "cell_type": "markdown",
   "id": "69ad6c6a",
   "metadata": {},
   "source": [
    "O código começa solicitando as entradas iniciais que são os estados, símbolos do alfabeto e o número de transições."
   ]
  },
  {
   "cell_type": "code",
   "execution_count": 1,
   "id": "976dd291",
   "metadata": {},
   "outputs": [
    {
     "name": "stdout",
     "output_type": "stream",
     "text": [
      "0 1\n",
      "a b\n",
      "3\n"
     ]
    }
   ],
   "source": [
    "estados = input().split(\" \")\n",
    "alfabeto = input().split(\" \")\n",
    "transicoes = int(input())"
   ]
  },
  {
   "cell_type": "markdown",
   "id": "7f03699e",
   "metadata": {},
   "source": [
    "Como estrutura de dados, foi usado uma tabela hash para a tabela que contém as transiçoes do AFND.\n",
    "A tabela hash armazena um par chave-valor com complexidade de busca média de O(1)."
   ]
  },
  {
   "cell_type": "code",
   "execution_count": 2,
   "id": "b552accb",
   "metadata": {},
   "outputs": [],
   "source": [
    "afd = {}"
   ]
  },
  {
   "cell_type": "markdown",
   "id": "cd4dbe07",
   "metadata": {},
   "source": [
    "É criado uma chave na tabela hash para cada estado do AFND."
   ]
  },
  {
   "cell_type": "code",
   "execution_count": 3,
   "id": "3132506d",
   "metadata": {},
   "outputs": [],
   "source": [
    "for estado in estados:\n",
    "    afd[estado] = {}"
   ]
  },
  {
   "cell_type": "markdown",
   "id": "fa2c11db",
   "metadata": {},
   "source": [
    "Nesta etapa é adicionado as entradas das transições para cada estado.\n",
    "Na tripla <o,c,d> o 'o' é o estado inicial/origem, ‘c’ é o caractere e ‘d’ é o estado de destino.\n",
    "Por ser Não Determinístico, cada transição encaminha para um ou mais estados.\n",
    " Como se trata de um AFND e cada transição pode levar pra 1 ou mais estados, estes foram armazenados como uma lista de estados."
   ]
  },
  {
   "cell_type": "code",
   "execution_count": 4,
   "id": "49ae2aec",
   "metadata": {},
   "outputs": [
    {
     "name": "stdout",
     "output_type": "stream",
     "text": [
      "0 a 0\n",
      "0 b 0\n",
      "0 b 1\n"
     ]
    }
   ],
   "source": [
    "for i in range(0, transicoes):\n",
    "    o, c, d = input().split(\" \")\n",
    "    if c not in afd[o]:\n",
    "        afd[o][c] = [d]\n",
    "    else:\n",
    "        afd[o][c].append(d)"
   ]
  },
  {
   "cell_type": "markdown",
   "id": "69018309",
   "metadata": {},
   "source": [
    "Aqui é solicitado o estado inicial, lista de estados finais e palavras para serem reconhecidas.\n",
    "A lista de estados finais é armazenada também como uma tabela hash."
   ]
  },
  {
   "cell_type": "code",
   "execution_count": 5,
   "id": "3da16fbb",
   "metadata": {},
   "outputs": [
    {
     "name": "stdout",
     "output_type": "stream",
     "text": [
      "0\n",
      "1\n",
      "a b aba abb\n"
     ]
    }
   ],
   "source": [
    "estado_inicial = input()\n",
    "estado_f = input().split(\" \")\n",
    "palavras = input().split(\" \")\n",
    "\n",
    "estados_final = {}\n",
    "for k in estado_f:\n",
    "    estados_final[k] = 1"
   ]
  },
  {
   "cell_type": "markdown",
   "id": "2d8596be",
   "metadata": {},
   "source": [
    "Por fim, temos o script que, com base na especificação do AFND fornecida nos passos anteriores, reconhece ou não uma palavra da seguinte forma:\n",
    "\n",
    "Cada palavra de entrada é percorrida através de um laço for, neste laço é criada uma lista de estados atuais, que a principio terá apenas o estado inicial;\n",
    "\n",
    "Para cada palavra são percorridos os caracteres da mesma, e para cada um dos estados atuais do sistema, armazenados na lista descrita anteriormente é feita a verificação das transições a partir do estado o, consumindo o caractere c e levando para n estados de destino d;\n",
    "\n",
    "É criada uma lista de novos estados atuais que ao final é atribuída como lista de estados atuais;\n",
    "\n",
    "Ao consumir toda palavra, a lista de estados atuais irá conter os estados possíveis para o AFDN ao consumir tal palavra;\n",
    "\n",
    "É feita a verificação se algum dos estados atuais é final, e caso seja, a palavra é aceita retornando S, e caso não retorna N."
   ]
  },
  {
   "cell_type": "code",
   "execution_count": 6,
   "id": "947c1193",
   "metadata": {},
   "outputs": [
    {
     "name": "stdout",
     "output_type": "stream",
     "text": [
      "N\n",
      "S\n",
      "N\n",
      "S\n"
     ]
    }
   ],
   "source": [
    "for palavra in palavras:\n",
    "    estados_atual = [estado_inicial]\n",
    "    estado_final = 0\n",
    "    \n",
    "    for char in palavra:\n",
    "        novo_estados_atual = []\n",
    "        for estado in estados_atual:\n",
    "            if(afd[estado].get(char)):\n",
    "                for novo_estado in afd[estado][char]:\n",
    "                    if(novo_estado not in novo_estados_atual):\n",
    "                        novo_estados_atual.append(novo_estado)\n",
    "        estados_atual = novo_estados_atual\n",
    "        \n",
    "    for estado in estados_atual:\n",
    "        if(estados_final.get(estado)):\n",
    "            estado_final = 1\n",
    "    if(estado_final == 1):\n",
    "        print('S')\n",
    "    else:\n",
    "        print('N')"
   ]
  }
 ],
 "metadata": {
  "kernelspec": {
   "display_name": "Python 3 (ipykernel)",
   "language": "python",
   "name": "python3"
  },
  "language_info": {
   "codemirror_mode": {
    "name": "ipython",
    "version": 3
   },
   "file_extension": ".py",
   "mimetype": "text/x-python",
   "name": "python",
   "nbconvert_exporter": "python",
   "pygments_lexer": "ipython3",
   "version": "3.9.7"
  }
 },
 "nbformat": 4,
 "nbformat_minor": 5
}
